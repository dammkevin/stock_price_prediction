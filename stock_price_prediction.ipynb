{
  "nbformat": 4,
  "nbformat_minor": 0,
  "metadata": {
    "colab": {
      "provenance": [],
      "authorship_tag": "ABX9TyPyVC47b4V17ysCBXqREjTI",
      "include_colab_link": true
    },
    "kernelspec": {
      "name": "python3",
      "display_name": "Python 3"
    },
    "language_info": {
      "name": "python"
    }
  },
  "cells": [
    {
      "cell_type": "markdown",
      "metadata": {
        "id": "view-in-github",
        "colab_type": "text"
      },
      "source": [
        "<a href=\"https://colab.research.google.com/github/dammkevin/stock_price_prediction/blob/main/stock_price_prediction.ipynb\" target=\"_parent\"><img src=\"https://colab.research.google.com/assets/colab-badge.svg\" alt=\"Open In Colab\"/></a>"
      ]
    },
    {
      "cell_type": "code",
      "execution_count": 141,
      "metadata": {
        "id": "dA5k2Or1ssbM"
      },
      "outputs": [],
      "source": [
        "import math\n",
        "import numpy as np\n",
        "import pandas as pd\n",
        "import yfinance as yf\n",
        "from sklearn.preprocessing import MinMaxScaler\n",
        "from keras.models import Sequential\n",
        "from keras.layers import Dense, LSTM\n",
        "import matplotlib.pyplot as plt\n",
        "plt.style.use('fivethirtyeight')"
      ]
    },
    {
      "cell_type": "code",
      "source": [
        "# Acquire the stock quote\n",
        "df = yf.download('AMZN', start='2017-01-01', end='2027-12-25')\n",
        "\n",
        "# Flatten MultiIndex columns if needed\n",
        "if isinstance(df.columns, pd.MultiIndex):\n",
        "    df.columns = ['_'.join(col).strip() for col in df.columns.values]\n",
        "\n",
        "# Show the data\n",
        "df"
      ],
      "metadata": {
        "colab": {
          "base_uri": "https://localhost:8080/",
          "height": 472
        },
        "id": "qfqZUNCEhJdg",
        "outputId": "39e26520-9efc-4d83-9d4c-d48c9db4671c"
      },
      "execution_count": 142,
      "outputs": [
        {
          "output_type": "stream",
          "name": "stderr",
          "text": [
            "\r[*********************100%***********************]  1 of 1 completed\n"
          ]
        },
        {
          "output_type": "execute_result",
          "data": {
            "text/plain": [
              "                           Adj Close_AMZN  Close_AMZN   High_AMZN    Low_AMZN  \\\n",
              "Date                                                                            \n",
              "2017-01-03 00:00:00+00:00       37.683498   37.683498   37.938000   37.384998   \n",
              "2017-01-04 00:00:00+00:00       37.859001   37.859001   37.984001   37.709999   \n",
              "2017-01-05 00:00:00+00:00       39.022499   39.022499   39.119999   38.013000   \n",
              "2017-01-06 00:00:00+00:00       39.799500   39.799500   39.972000   38.924000   \n",
              "2017-01-09 00:00:00+00:00       39.846001   39.846001   40.088501   39.588501   \n",
              "...                                   ...         ...         ...         ...   \n",
              "2024-11-12 00:00:00+00:00      208.910004  208.910004  209.539993  206.009995   \n",
              "2024-11-13 00:00:00+00:00      214.100006  214.100006  215.089996  209.139999   \n",
              "2024-11-14 00:00:00+00:00      211.479996  211.479996  215.899994  210.880005   \n",
              "2024-11-15 00:00:00+00:00      202.610001  202.610001  207.339996  199.610001   \n",
              "2024-11-18 00:00:00+00:00      201.699997  201.699997  204.669998  200.949997   \n",
              "\n",
              "                            Open_AMZN  Volume_AMZN  \n",
              "Date                                                \n",
              "2017-01-03 00:00:00+00:00   37.896000     70422000  \n",
              "2017-01-04 00:00:00+00:00   37.919498     50210000  \n",
              "2017-01-05 00:00:00+00:00   38.077499    116602000  \n",
              "2017-01-06 00:00:00+00:00   39.118000    119724000  \n",
              "2017-01-09 00:00:00+00:00   39.900002     68922000  \n",
              "...                               ...          ...  \n",
              "2024-11-12 00:00:00+00:00  208.369995     38942900  \n",
              "2024-11-13 00:00:00+00:00  209.399994     46212900  \n",
              "2024-11-14 00:00:00+00:00  214.160004     42620300  \n",
              "2024-11-15 00:00:00+00:00  206.759995     86591100  \n",
              "2024-11-18 00:00:00+00:00  204.149994     36409900  \n",
              "\n",
              "[1983 rows x 6 columns]"
            ],
            "text/html": [
              "\n",
              "  <div id=\"df-4d233f1c-fdcb-440a-a5c1-efc0178258de\" class=\"colab-df-container\">\n",
              "    <div>\n",
              "<style scoped>\n",
              "    .dataframe tbody tr th:only-of-type {\n",
              "        vertical-align: middle;\n",
              "    }\n",
              "\n",
              "    .dataframe tbody tr th {\n",
              "        vertical-align: top;\n",
              "    }\n",
              "\n",
              "    .dataframe thead th {\n",
              "        text-align: right;\n",
              "    }\n",
              "</style>\n",
              "<table border=\"1\" class=\"dataframe\">\n",
              "  <thead>\n",
              "    <tr style=\"text-align: right;\">\n",
              "      <th></th>\n",
              "      <th>Adj Close_AMZN</th>\n",
              "      <th>Close_AMZN</th>\n",
              "      <th>High_AMZN</th>\n",
              "      <th>Low_AMZN</th>\n",
              "      <th>Open_AMZN</th>\n",
              "      <th>Volume_AMZN</th>\n",
              "    </tr>\n",
              "    <tr>\n",
              "      <th>Date</th>\n",
              "      <th></th>\n",
              "      <th></th>\n",
              "      <th></th>\n",
              "      <th></th>\n",
              "      <th></th>\n",
              "      <th></th>\n",
              "    </tr>\n",
              "  </thead>\n",
              "  <tbody>\n",
              "    <tr>\n",
              "      <th>2017-01-03 00:00:00+00:00</th>\n",
              "      <td>37.683498</td>\n",
              "      <td>37.683498</td>\n",
              "      <td>37.938000</td>\n",
              "      <td>37.384998</td>\n",
              "      <td>37.896000</td>\n",
              "      <td>70422000</td>\n",
              "    </tr>\n",
              "    <tr>\n",
              "      <th>2017-01-04 00:00:00+00:00</th>\n",
              "      <td>37.859001</td>\n",
              "      <td>37.859001</td>\n",
              "      <td>37.984001</td>\n",
              "      <td>37.709999</td>\n",
              "      <td>37.919498</td>\n",
              "      <td>50210000</td>\n",
              "    </tr>\n",
              "    <tr>\n",
              "      <th>2017-01-05 00:00:00+00:00</th>\n",
              "      <td>39.022499</td>\n",
              "      <td>39.022499</td>\n",
              "      <td>39.119999</td>\n",
              "      <td>38.013000</td>\n",
              "      <td>38.077499</td>\n",
              "      <td>116602000</td>\n",
              "    </tr>\n",
              "    <tr>\n",
              "      <th>2017-01-06 00:00:00+00:00</th>\n",
              "      <td>39.799500</td>\n",
              "      <td>39.799500</td>\n",
              "      <td>39.972000</td>\n",
              "      <td>38.924000</td>\n",
              "      <td>39.118000</td>\n",
              "      <td>119724000</td>\n",
              "    </tr>\n",
              "    <tr>\n",
              "      <th>2017-01-09 00:00:00+00:00</th>\n",
              "      <td>39.846001</td>\n",
              "      <td>39.846001</td>\n",
              "      <td>40.088501</td>\n",
              "      <td>39.588501</td>\n",
              "      <td>39.900002</td>\n",
              "      <td>68922000</td>\n",
              "    </tr>\n",
              "    <tr>\n",
              "      <th>...</th>\n",
              "      <td>...</td>\n",
              "      <td>...</td>\n",
              "      <td>...</td>\n",
              "      <td>...</td>\n",
              "      <td>...</td>\n",
              "      <td>...</td>\n",
              "    </tr>\n",
              "    <tr>\n",
              "      <th>2024-11-12 00:00:00+00:00</th>\n",
              "      <td>208.910004</td>\n",
              "      <td>208.910004</td>\n",
              "      <td>209.539993</td>\n",
              "      <td>206.009995</td>\n",
              "      <td>208.369995</td>\n",
              "      <td>38942900</td>\n",
              "    </tr>\n",
              "    <tr>\n",
              "      <th>2024-11-13 00:00:00+00:00</th>\n",
              "      <td>214.100006</td>\n",
              "      <td>214.100006</td>\n",
              "      <td>215.089996</td>\n",
              "      <td>209.139999</td>\n",
              "      <td>209.399994</td>\n",
              "      <td>46212900</td>\n",
              "    </tr>\n",
              "    <tr>\n",
              "      <th>2024-11-14 00:00:00+00:00</th>\n",
              "      <td>211.479996</td>\n",
              "      <td>211.479996</td>\n",
              "      <td>215.899994</td>\n",
              "      <td>210.880005</td>\n",
              "      <td>214.160004</td>\n",
              "      <td>42620300</td>\n",
              "    </tr>\n",
              "    <tr>\n",
              "      <th>2024-11-15 00:00:00+00:00</th>\n",
              "      <td>202.610001</td>\n",
              "      <td>202.610001</td>\n",
              "      <td>207.339996</td>\n",
              "      <td>199.610001</td>\n",
              "      <td>206.759995</td>\n",
              "      <td>86591100</td>\n",
              "    </tr>\n",
              "    <tr>\n",
              "      <th>2024-11-18 00:00:00+00:00</th>\n",
              "      <td>201.699997</td>\n",
              "      <td>201.699997</td>\n",
              "      <td>204.669998</td>\n",
              "      <td>200.949997</td>\n",
              "      <td>204.149994</td>\n",
              "      <td>36409900</td>\n",
              "    </tr>\n",
              "  </tbody>\n",
              "</table>\n",
              "<p>1983 rows × 6 columns</p>\n",
              "</div>\n",
              "    <div class=\"colab-df-buttons\">\n",
              "\n",
              "  <div class=\"colab-df-container\">\n",
              "    <button class=\"colab-df-convert\" onclick=\"convertToInteractive('df-4d233f1c-fdcb-440a-a5c1-efc0178258de')\"\n",
              "            title=\"Convert this dataframe to an interactive table.\"\n",
              "            style=\"display:none;\">\n",
              "\n",
              "  <svg xmlns=\"http://www.w3.org/2000/svg\" height=\"24px\" viewBox=\"0 -960 960 960\">\n",
              "    <path d=\"M120-120v-720h720v720H120Zm60-500h600v-160H180v160Zm220 220h160v-160H400v160Zm0 220h160v-160H400v160ZM180-400h160v-160H180v160Zm440 0h160v-160H620v160ZM180-180h160v-160H180v160Zm440 0h160v-160H620v160Z\"/>\n",
              "  </svg>\n",
              "    </button>\n",
              "\n",
              "  <style>\n",
              "    .colab-df-container {\n",
              "      display:flex;\n",
              "      gap: 12px;\n",
              "    }\n",
              "\n",
              "    .colab-df-convert {\n",
              "      background-color: #E8F0FE;\n",
              "      border: none;\n",
              "      border-radius: 50%;\n",
              "      cursor: pointer;\n",
              "      display: none;\n",
              "      fill: #1967D2;\n",
              "      height: 32px;\n",
              "      padding: 0 0 0 0;\n",
              "      width: 32px;\n",
              "    }\n",
              "\n",
              "    .colab-df-convert:hover {\n",
              "      background-color: #E2EBFA;\n",
              "      box-shadow: 0px 1px 2px rgba(60, 64, 67, 0.3), 0px 1px 3px 1px rgba(60, 64, 67, 0.15);\n",
              "      fill: #174EA6;\n",
              "    }\n",
              "\n",
              "    .colab-df-buttons div {\n",
              "      margin-bottom: 4px;\n",
              "    }\n",
              "\n",
              "    [theme=dark] .colab-df-convert {\n",
              "      background-color: #3B4455;\n",
              "      fill: #D2E3FC;\n",
              "    }\n",
              "\n",
              "    [theme=dark] .colab-df-convert:hover {\n",
              "      background-color: #434B5C;\n",
              "      box-shadow: 0px 1px 3px 1px rgba(0, 0, 0, 0.15);\n",
              "      filter: drop-shadow(0px 1px 2px rgba(0, 0, 0, 0.3));\n",
              "      fill: #FFFFFF;\n",
              "    }\n",
              "  </style>\n",
              "\n",
              "    <script>\n",
              "      const buttonEl =\n",
              "        document.querySelector('#df-4d233f1c-fdcb-440a-a5c1-efc0178258de button.colab-df-convert');\n",
              "      buttonEl.style.display =\n",
              "        google.colab.kernel.accessAllowed ? 'block' : 'none';\n",
              "\n",
              "      async function convertToInteractive(key) {\n",
              "        const element = document.querySelector('#df-4d233f1c-fdcb-440a-a5c1-efc0178258de');\n",
              "        const dataTable =\n",
              "          await google.colab.kernel.invokeFunction('convertToInteractive',\n",
              "                                                    [key], {});\n",
              "        if (!dataTable) return;\n",
              "\n",
              "        const docLinkHtml = 'Like what you see? Visit the ' +\n",
              "          '<a target=\"_blank\" href=https://colab.research.google.com/notebooks/data_table.ipynb>data table notebook</a>'\n",
              "          + ' to learn more about interactive tables.';\n",
              "        element.innerHTML = '';\n",
              "        dataTable['output_type'] = 'display_data';\n",
              "        await google.colab.output.renderOutput(dataTable, element);\n",
              "        const docLink = document.createElement('div');\n",
              "        docLink.innerHTML = docLinkHtml;\n",
              "        element.appendChild(docLink);\n",
              "      }\n",
              "    </script>\n",
              "  </div>\n",
              "\n",
              "\n",
              "<div id=\"df-35d48c7d-17f3-4f85-9cd6-81c88940b611\">\n",
              "  <button class=\"colab-df-quickchart\" onclick=\"quickchart('df-35d48c7d-17f3-4f85-9cd6-81c88940b611')\"\n",
              "            title=\"Suggest charts\"\n",
              "            style=\"display:none;\">\n",
              "\n",
              "<svg xmlns=\"http://www.w3.org/2000/svg\" height=\"24px\"viewBox=\"0 0 24 24\"\n",
              "     width=\"24px\">\n",
              "    <g>\n",
              "        <path d=\"M19 3H5c-1.1 0-2 .9-2 2v14c0 1.1.9 2 2 2h14c1.1 0 2-.9 2-2V5c0-1.1-.9-2-2-2zM9 17H7v-7h2v7zm4 0h-2V7h2v10zm4 0h-2v-4h2v4z\"/>\n",
              "    </g>\n",
              "</svg>\n",
              "  </button>\n",
              "\n",
              "<style>\n",
              "  .colab-df-quickchart {\n",
              "      --bg-color: #E8F0FE;\n",
              "      --fill-color: #1967D2;\n",
              "      --hover-bg-color: #E2EBFA;\n",
              "      --hover-fill-color: #174EA6;\n",
              "      --disabled-fill-color: #AAA;\n",
              "      --disabled-bg-color: #DDD;\n",
              "  }\n",
              "\n",
              "  [theme=dark] .colab-df-quickchart {\n",
              "      --bg-color: #3B4455;\n",
              "      --fill-color: #D2E3FC;\n",
              "      --hover-bg-color: #434B5C;\n",
              "      --hover-fill-color: #FFFFFF;\n",
              "      --disabled-bg-color: #3B4455;\n",
              "      --disabled-fill-color: #666;\n",
              "  }\n",
              "\n",
              "  .colab-df-quickchart {\n",
              "    background-color: var(--bg-color);\n",
              "    border: none;\n",
              "    border-radius: 50%;\n",
              "    cursor: pointer;\n",
              "    display: none;\n",
              "    fill: var(--fill-color);\n",
              "    height: 32px;\n",
              "    padding: 0;\n",
              "    width: 32px;\n",
              "  }\n",
              "\n",
              "  .colab-df-quickchart:hover {\n",
              "    background-color: var(--hover-bg-color);\n",
              "    box-shadow: 0 1px 2px rgba(60, 64, 67, 0.3), 0 1px 3px 1px rgba(60, 64, 67, 0.15);\n",
              "    fill: var(--button-hover-fill-color);\n",
              "  }\n",
              "\n",
              "  .colab-df-quickchart-complete:disabled,\n",
              "  .colab-df-quickchart-complete:disabled:hover {\n",
              "    background-color: var(--disabled-bg-color);\n",
              "    fill: var(--disabled-fill-color);\n",
              "    box-shadow: none;\n",
              "  }\n",
              "\n",
              "  .colab-df-spinner {\n",
              "    border: 2px solid var(--fill-color);\n",
              "    border-color: transparent;\n",
              "    border-bottom-color: var(--fill-color);\n",
              "    animation:\n",
              "      spin 1s steps(1) infinite;\n",
              "  }\n",
              "\n",
              "  @keyframes spin {\n",
              "    0% {\n",
              "      border-color: transparent;\n",
              "      border-bottom-color: var(--fill-color);\n",
              "      border-left-color: var(--fill-color);\n",
              "    }\n",
              "    20% {\n",
              "      border-color: transparent;\n",
              "      border-left-color: var(--fill-color);\n",
              "      border-top-color: var(--fill-color);\n",
              "    }\n",
              "    30% {\n",
              "      border-color: transparent;\n",
              "      border-left-color: var(--fill-color);\n",
              "      border-top-color: var(--fill-color);\n",
              "      border-right-color: var(--fill-color);\n",
              "    }\n",
              "    40% {\n",
              "      border-color: transparent;\n",
              "      border-right-color: var(--fill-color);\n",
              "      border-top-color: var(--fill-color);\n",
              "    }\n",
              "    60% {\n",
              "      border-color: transparent;\n",
              "      border-right-color: var(--fill-color);\n",
              "    }\n",
              "    80% {\n",
              "      border-color: transparent;\n",
              "      border-right-color: var(--fill-color);\n",
              "      border-bottom-color: var(--fill-color);\n",
              "    }\n",
              "    90% {\n",
              "      border-color: transparent;\n",
              "      border-bottom-color: var(--fill-color);\n",
              "    }\n",
              "  }\n",
              "</style>\n",
              "\n",
              "  <script>\n",
              "    async function quickchart(key) {\n",
              "      const quickchartButtonEl =\n",
              "        document.querySelector('#' + key + ' button');\n",
              "      quickchartButtonEl.disabled = true;  // To prevent multiple clicks.\n",
              "      quickchartButtonEl.classList.add('colab-df-spinner');\n",
              "      try {\n",
              "        const charts = await google.colab.kernel.invokeFunction(\n",
              "            'suggestCharts', [key], {});\n",
              "      } catch (error) {\n",
              "        console.error('Error during call to suggestCharts:', error);\n",
              "      }\n",
              "      quickchartButtonEl.classList.remove('colab-df-spinner');\n",
              "      quickchartButtonEl.classList.add('colab-df-quickchart-complete');\n",
              "    }\n",
              "    (() => {\n",
              "      let quickchartButtonEl =\n",
              "        document.querySelector('#df-35d48c7d-17f3-4f85-9cd6-81c88940b611 button');\n",
              "      quickchartButtonEl.style.display =\n",
              "        google.colab.kernel.accessAllowed ? 'block' : 'none';\n",
              "    })();\n",
              "  </script>\n",
              "</div>\n",
              "\n",
              "  <div id=\"id_56713305-f498-4ea5-9979-fa5f2e452b34\">\n",
              "    <style>\n",
              "      .colab-df-generate {\n",
              "        background-color: #E8F0FE;\n",
              "        border: none;\n",
              "        border-radius: 50%;\n",
              "        cursor: pointer;\n",
              "        display: none;\n",
              "        fill: #1967D2;\n",
              "        height: 32px;\n",
              "        padding: 0 0 0 0;\n",
              "        width: 32px;\n",
              "      }\n",
              "\n",
              "      .colab-df-generate:hover {\n",
              "        background-color: #E2EBFA;\n",
              "        box-shadow: 0px 1px 2px rgba(60, 64, 67, 0.3), 0px 1px 3px 1px rgba(60, 64, 67, 0.15);\n",
              "        fill: #174EA6;\n",
              "      }\n",
              "\n",
              "      [theme=dark] .colab-df-generate {\n",
              "        background-color: #3B4455;\n",
              "        fill: #D2E3FC;\n",
              "      }\n",
              "\n",
              "      [theme=dark] .colab-df-generate:hover {\n",
              "        background-color: #434B5C;\n",
              "        box-shadow: 0px 1px 3px 1px rgba(0, 0, 0, 0.15);\n",
              "        filter: drop-shadow(0px 1px 2px rgba(0, 0, 0, 0.3));\n",
              "        fill: #FFFFFF;\n",
              "      }\n",
              "    </style>\n",
              "    <button class=\"colab-df-generate\" onclick=\"generateWithVariable('df')\"\n",
              "            title=\"Generate code using this dataframe.\"\n",
              "            style=\"display:none;\">\n",
              "\n",
              "  <svg xmlns=\"http://www.w3.org/2000/svg\" height=\"24px\"viewBox=\"0 0 24 24\"\n",
              "       width=\"24px\">\n",
              "    <path d=\"M7,19H8.4L18.45,9,17,7.55,7,17.6ZM5,21V16.75L18.45,3.32a2,2,0,0,1,2.83,0l1.4,1.43a1.91,1.91,0,0,1,.58,1.4,1.91,1.91,0,0,1-.58,1.4L9.25,21ZM18.45,9,17,7.55Zm-12,3A5.31,5.31,0,0,0,4.9,8.1,5.31,5.31,0,0,0,1,6.5,5.31,5.31,0,0,0,4.9,4.9,5.31,5.31,0,0,0,6.5,1,5.31,5.31,0,0,0,8.1,4.9,5.31,5.31,0,0,0,12,6.5,5.46,5.46,0,0,0,6.5,12Z\"/>\n",
              "  </svg>\n",
              "    </button>\n",
              "    <script>\n",
              "      (() => {\n",
              "      const buttonEl =\n",
              "        document.querySelector('#id_56713305-f498-4ea5-9979-fa5f2e452b34 button.colab-df-generate');\n",
              "      buttonEl.style.display =\n",
              "        google.colab.kernel.accessAllowed ? 'block' : 'none';\n",
              "\n",
              "      buttonEl.onclick = () => {\n",
              "        google.colab.notebook.generateWithVariable('df');\n",
              "      }\n",
              "      })();\n",
              "    </script>\n",
              "  </div>\n",
              "\n",
              "    </div>\n",
              "  </div>\n"
            ],
            "application/vnd.google.colaboratory.intrinsic+json": {
              "type": "dataframe",
              "variable_name": "df",
              "summary": "{\n  \"name\": \"df\",\n  \"rows\": 1983,\n  \"fields\": [\n    {\n      \"column\": \"Date\",\n      \"properties\": {\n        \"dtype\": \"date\",\n        \"min\": \"2017-01-03 00:00:00+00:00\",\n        \"max\": \"2024-11-18 00:00:00+00:00\",\n        \"num_unique_values\": 1983,\n        \"samples\": [\n          \"2019-04-29 00:00:00+00:00\",\n          \"2024-10-17 00:00:00+00:00\",\n          \"2021-12-10 00:00:00+00:00\"\n        ],\n        \"semantic_type\": \"\",\n        \"description\": \"\"\n      }\n    },\n    {\n      \"column\": \"Adj Close_AMZN\",\n      \"properties\": {\n        \"dtype\": \"number\",\n        \"std\": 43.854514633534116,\n        \"min\": 37.68349838256836,\n        \"max\": 214.10000610351562,\n        \"num_unique_values\": 1940,\n        \"samples\": [\n          125.48999786376953,\n          185.1300048828125,\n          44.23350143432617\n        ],\n        \"semantic_type\": \"\",\n        \"description\": \"\"\n      }\n    },\n    {\n      \"column\": \"Close_AMZN\",\n      \"properties\": {\n        \"dtype\": \"number\",\n        \"std\": 43.854514633534116,\n        \"min\": 37.68349838256836,\n        \"max\": 214.10000610351562,\n        \"num_unique_values\": 1940,\n        \"samples\": [\n          125.48999786376953,\n          185.1300048828125,\n          44.23350143432617\n        ],\n        \"semantic_type\": \"\",\n        \"description\": \"\"\n      }\n    },\n    {\n      \"column\": \"High_AMZN\",\n      \"properties\": {\n        \"dtype\": \"number\",\n        \"std\": 44.37956111499462,\n        \"min\": 37.9379997253418,\n        \"max\": 215.89999389648438,\n        \"num_unique_values\": 1930,\n        \"samples\": [\n          187.39999389648438,\n          129.14999389648438,\n          177.91000366210938\n        ],\n        \"semantic_type\": \"\",\n        \"description\": \"\"\n      }\n    },\n    {\n      \"column\": \"Low_AMZN\",\n      \"properties\": {\n        \"dtype\": \"number\",\n        \"std\": 43.36116461766924,\n        \"min\": 37.3849983215332,\n        \"max\": 210.8800048828125,\n        \"num_unique_values\": 1932,\n        \"samples\": [\n          164.45350646972656,\n          123.04000091552734,\n          173.99000549316406\n        ],\n        \"semantic_type\": \"\",\n        \"description\": \"\"\n      }\n    },\n    {\n      \"column\": \"Open_AMZN\",\n      \"properties\": {\n        \"dtype\": \"number\",\n        \"std\": 43.90160341133956,\n        \"min\": 37.895999908447266,\n        \"max\": 214.16000366210938,\n        \"num_unique_values\": 1901,\n        \"samples\": [\n          163.45050048828125,\n          49.429500579833984,\n          91.33599853515625\n        ],\n        \"semantic_type\": \"\",\n        \"description\": \"\"\n      }\n    },\n    {\n      \"column\": \"Volume_AMZN\",\n      \"properties\": {\n        \"dtype\": \"number\",\n        \"std\": 39112341,\n        \"min\": 17626000,\n        \"max\": 331300000,\n        \"num_unique_values\": 1967,\n        \"samples\": [\n          103520000,\n          67398500,\n          42766000\n        ],\n        \"semantic_type\": \"\",\n        \"description\": \"\"\n      }\n    }\n  ]\n}"
            }
          },
          "metadata": {},
          "execution_count": 142
        }
      ]
    },
    {
      "cell_type": "code",
      "source": [
        "# Get the number of rows and columns in the data set\n",
        "df.shape"
      ],
      "metadata": {
        "colab": {
          "base_uri": "https://localhost:8080/"
        },
        "id": "Sme3UzVvmI4i",
        "outputId": "1a1ad012-f289-4593-9ec5-a485bcbbd423"
      },
      "execution_count": 143,
      "outputs": [
        {
          "output_type": "execute_result",
          "data": {
            "text/plain": [
              "(1983, 6)"
            ]
          },
          "metadata": {},
          "execution_count": 143
        }
      ]
    },
    {
      "cell_type": "code",
      "source": [
        "# Visualize the closing price history\n",
        "plt.figure(figsize=(16, 8))\n",
        "plt.title('Close Price History')\n",
        "plt.plot(df['Close'] if 'Close' in df.columns else df.filter(like='Close').iloc[:, 0])\n",
        "plt.xlabel('Date', fontsize=18)\n",
        "plt.ylabel('Close Price USD ($)', fontsize=18)\n",
        "plt.show()"
      ],
      "metadata": {
        "colab": {
          "base_uri": "https://localhost:8080/",
          "height": 443
        },
        "id": "_2lk6rmimdMi",
        "outputId": "7118bcef-46c3-4490-dbfa-d087aec818db"
      },
      "execution_count": 144,
      "outputs": [
        {
          "output_type": "display_data",
          "data": {
            "text/plain": [
              "<Figure size 1600x800 with 1 Axes>"
            ],
            "image/png": "[encoded data removed]"
          },
          "metadata": {}
        }
      ]
    },
    {
      "cell_type": "code",
      "source": [
        "# Create a new dataframe with only the 'Close' column\n",
        "if 'Close' in df.columns:\n",
        "    data = df.filter(['Close'])\n",
        "elif any('Close' in col for col in df.columns):\n",
        "    data = df.filter(like='Close')\n",
        "else:\n",
        "    raise ValueError(\"Expected column 'Close' not found in the data.\")\n",
        "\n",
        "# Convert the dataframe to a NumPy array\n",
        "dataset = data.values\n",
        "\n",
        "# Get the number of rows to train the model on\n",
        "training_data_len = math.ceil(len(dataset) * 0.8)\n",
        "\n",
        "training_data_len"
      ],
      "metadata": {
        "colab": {
          "base_uri": "https://localhost:8080/"
        },
        "id": "1UFmTurSn3bv",
        "outputId": "aa505664-50ab-4912-83d1-6b1bc1ea610e"
      },
      "execution_count": 145,
      "outputs": [
        {
          "output_type": "execute_result",
          "data": {
            "text/plain": [
              "1587"
            ]
          },
          "metadata": {},
          "execution_count": 145
        }
      ]
    },
    {
      "cell_type": "code",
      "source": [
        "# Scale the data\n",
        "scaler = MinMaxScaler(feature_range=(0,1))\n",
        "scaled_data = scaler.fit_transform(dataset)\n",
        "\n",
        "scaled_data"
      ],
      "metadata": {
        "colab": {
          "base_uri": "https://localhost:8080/"
        },
        "id": "Sh9krTw_tNbq",
        "outputId": "47e921df-99e2-4027-80a0-b700a01a7194"
      },
      "execution_count": 146,
      "outputs": [
        {
          "output_type": "execute_result",
          "data": {
            "text/plain": [
              "array([[0.        , 0.        ],\n",
              "       [0.00099482, 0.00099482],\n",
              "       [0.00759   , 0.00759   ],\n",
              "       ...,\n",
              "       [0.98514872, 0.98514872],\n",
              "       [0.93487001, 0.93487001],\n",
              "       [0.92971174, 0.92971174]])"
            ]
          },
          "metadata": {},
          "execution_count": 146
        }
      ]
    },
    {
      "cell_type": "code",
      "source": [
        "# Create the training data set\n",
        "\n",
        "# Create the scaled training data set\n",
        "train_data = scaled_data[0:training_data_len, :]\n",
        "\n",
        "# Split the data into x_train and y_train data sets\n",
        "x_train = []\n",
        "y_train = []\n",
        "\n",
        "for i in range(60, len(train_data)):\n",
        "    x_train.append(train_data[i - 60:i, 0])\n",
        "    y_train.append(train_data[i, 0])\n",
        "\n",
        "    if i <= 61:\n",
        "      print(x_train)\n",
        "      print(y_train)\n",
        "      print()"
      ],
      "metadata": {
        "colab": {
          "base_uri": "https://localhost:8080/"
        },
        "id": "E9Iiiy4Y7tdu",
        "outputId": "d2eee998-f107-4e4a-e5de-0f8c2dc7fb0e"
      },
      "execution_count": 161,
      "outputs": [
        {
          "output_type": "stream",
          "name": "stdout",
          "text": [
            "[array([0.        , 0.00099482, 0.00759   , 0.01199435, 0.01225794,\n",
            "       0.01196883, 0.01285312, 0.01699671, 0.01798868, 0.01588571,\n",
            "       0.01525085, 0.01569298, 0.01549176, 0.01819843, 0.01949082,\n",
            "       0.02348137, 0.02422677, 0.02326882, 0.02174118, 0.01978557,\n",
            "       0.02229951, 0.02445351, 0.01602174, 0.0152962 , 0.01667362,\n",
            "       0.01871708, 0.01918473, 0.02091359, 0.02348421, 0.02344453,\n",
            "       0.0252329 , 0.02564104, 0.02590463, 0.02912709, 0.02889185,\n",
            "       0.02792257, 0.0259528 , 0.02691642, 0.02589611, 0.02817481,\n",
            "       0.02699294, 0.02726786, 0.02634109, 0.02617386, 0.02744359,\n",
            "       0.02815215, 0.0279991 , 0.02860277, 0.02801892, 0.02814363,\n",
            "       0.02827118, 0.02795658, 0.02927731, 0.02537462, 0.02675204,\n",
            "       0.02655931, 0.02605765, 0.0264006 , 0.02900239, 0.03419465])]\n",
            "[0.03476717139139243]\n",
            "\n",
            "[array([0.        , 0.00099482, 0.00759   , 0.01199435, 0.01225794,\n",
            "       0.01196883, 0.01285312, 0.01699671, 0.01798868, 0.01588571,\n",
            "       0.01525085, 0.01569298, 0.01549176, 0.01819843, 0.01949082,\n",
            "       0.02348137, 0.02422677, 0.02326882, 0.02174118, 0.01978557,\n",
            "       0.02229951, 0.02445351, 0.01602174, 0.0152962 , 0.01667362,\n",
            "       0.01871708, 0.01918473, 0.02091359, 0.02348421, 0.02344453,\n",
            "       0.0252329 , 0.02564104, 0.02590463, 0.02912709, 0.02889185,\n",
            "       0.02792257, 0.0259528 , 0.02691642, 0.02589611, 0.02817481,\n",
            "       0.02699294, 0.02726786, 0.02634109, 0.02617386, 0.02744359,\n",
            "       0.02815215, 0.0279991 , 0.02860277, 0.02801892, 0.02814363,\n",
            "       0.02827118, 0.02795658, 0.02927731, 0.02537462, 0.02675204,\n",
            "       0.02655931, 0.02605765, 0.0264006 , 0.02900239, 0.03419465]), array([0.00099482, 0.00759   , 0.01199435, 0.01225794, 0.01196883,\n",
            "       0.01285312, 0.01699671, 0.01798868, 0.01588571, 0.01525085,\n",
            "       0.01569298, 0.01549176, 0.01819843, 0.01949082, 0.02348137,\n",
            "       0.02422677, 0.02326882, 0.02174118, 0.01978557, 0.02229951,\n",
            "       0.02445351, 0.01602174, 0.0152962 , 0.01667362, 0.01871708,\n",
            "       0.01918473, 0.02091359, 0.02348421, 0.02344453, 0.0252329 ,\n",
            "       0.02564104, 0.02590463, 0.02912709, 0.02889185, 0.02792257,\n",
            "       0.0259528 , 0.02691642, 0.02589611, 0.02817481, 0.02699294,\n",
            "       0.02726786, 0.02634109, 0.02617386, 0.02744359, 0.02815215,\n",
            "       0.0279991 , 0.02860277, 0.02801892, 0.02814363, 0.02827118,\n",
            "       0.02795658, 0.02927731, 0.02537462, 0.02675204, 0.02655931,\n",
            "       0.02605765, 0.0264006 , 0.02900239, 0.03419465, 0.03476717])]\n",
            "[0.03476717139139243, 0.03765804780722029]\n",
            "\n"
          ]
        }
      ]
    },
    {
      "cell_type": "code",
      "source": [
        "# Convert the x_train and y_train to NumPy arrays\n",
        "x_train, y_train = np.array(x_train), np.array(y_train)"
      ],
      "metadata": {
        "id": "x6rYhm8_CSzD"
      },
      "execution_count": 162,
      "outputs": []
    },
    {
      "cell_type": "code",
      "source": [
        "# Reshape the Data b/c a LSTM model expects the data to be in 3-Dimensions\n",
        "\n",
        "x_train = np.reshape(x_train, (x_train.shape[0], x_train.shape[1], 1))\n",
        "x_train.shape"
      ],
      "metadata": {
        "colab": {
          "base_uri": "https://localhost:8080/"
        },
        "id": "0gu9ieEnChXy",
        "outputId": "325c860a-3753-4fb0-af7b-7e277a3c573f"
      },
      "execution_count": 163,
      "outputs": [
        {
          "output_type": "execute_result",
          "data": {
            "text/plain": [
              "(1527, 60, 1)"
            ]
          },
          "metadata": {},
          "execution_count": 163
        }
      ]
    },
    {
      "cell_type": "code",
      "source": [
        "# Build the LSTM Model\n",
        "\n",
        "model = Sequential()\n",
        "model.add(LSTM(50, return_sequences=True, input_shape=(x_train.shape[1], 1)))\n",
        "model.add(LSTM(50, return_sequences=False))\n",
        "model.add(Dense(25))\n",
        "model.add(Dense(1))"
      ],
      "metadata": {
        "id": "vVJ26o8zDzNb"
      },
      "execution_count": 158,
      "outputs": []
    },
    {
      "cell_type": "code",
      "source": [
        "# Compile the model\n",
        "\n",
        "model.compile(optimizer='adam', loss='mean_squared_error')"
      ],
      "metadata": {
        "id": "0OHo4plJETrJ"
      },
      "execution_count": 159,
      "outputs": []
    },
    {
      "cell_type": "code",
      "source": [
        "# Train the model\n",
        "\n",
        "model.fit(x_train, y_train, batch_size=1, epochs=1)"
      ],
      "metadata": {
        "colab": {
          "base_uri": "https://localhost:8080/"
        },
        "id": "YDgtBsmtEdA0",
        "outputId": "4e0d5789-9c59-4b88-cc39-24f014922b39"
      },
      "execution_count": 160,
      "outputs": [
        {
          "output_type": "stream",
          "name": "stdout",
          "text": [
            "\u001b[1m1527/1527\u001b[0m \u001b[32m━━━━━━━━━━━━━━━━━━━━\u001b[0m\u001b[37m\u001b[0m \u001b[1m40s\u001b[0m 24ms/step - loss: 0.0037\n"
          ]
        },
        {
          "output_type": "execute_result",
          "data": {
            "text/plain": [
              "<keras.src.callbacks.history.History at 0x78a4217d8ac0>"
            ]
          },
          "metadata": {},
          "execution_count": 160
        }
      ]
    },
    {
      "cell_type": "code",
      "source": [
        "# Create the testing data set\n",
        "\n",
        "# Create a new array containing scaled values from index 1527 to 1983\n",
        "test_data = scaled_data[training_data_len - 60: , :]\n",
        "\n",
        "# Create the data sets x_test and y_test\n",
        "x_test = []\n",
        "y_test = dataset[training_data_len: , :]\n",
        "for i in range(60, len(test_data)):\n",
        "    x_test.append(test_data[i - 60:i, 0])"
      ],
      "metadata": {
        "id": "9B1lCB1kG1Dn"
      },
      "execution_count": 165,
      "outputs": []
    },
    {
      "cell_type": "code",
      "source": [
        "# Convert the data into a NumPy array\n",
        "x_test = np.array(x_test)"
      ],
      "metadata": {
        "id": "yc725V-aIWxE"
      },
      "execution_count": 166,
      "outputs": []
    },
    {
      "cell_type": "code",
      "source": [
        "# Reshape the data\n",
        "x_test = np.reshape(x_test, (x_test.shape[0], x_test.shape[1], 1))"
      ],
      "metadata": {
        "id": "DrK_x_xIIxYD"
      },
      "execution_count": 169,
      "outputs": []
    },
    {
      "cell_type": "code",
      "source": [
        "# Get the model predicted price values\n",
        "predictions = model.predict(x_test)\n",
        "\n",
        "# Create a dummy array to match the scaler's expected shape\n",
        "dummy_array = np.zeros((predictions.shape[0], scaled_data.shape[1]))\n",
        "dummy_array[:, 0] = predictions[:, 0]\n",
        "\n",
        "# Perform the inverse transformation\n",
        "predictions = scaler.inverse_transform(dummy_array)\n",
        "\n",
        "# Extract the 'Close' price predictions\n",
        "predictions = predictions[:, 0]"
      ],
      "metadata": {
        "colab": {
          "base_uri": "https://localhost:8080/"
        },
        "id": "SdVamHb5JIj_",
        "outputId": "c8fe807c-6c28-4cfb-d25b-be309b095cc4"
      },
      "execution_count": 182,
      "outputs": [
        {
          "output_type": "stream",
          "name": "stdout",
          "text": [
            "\u001b[1m13/13\u001b[0m \u001b[32m━━━━━━━━━━━━━━━━━━━━\u001b[0m\u001b[37m\u001b[0m \u001b[1m0s\u001b[0m 13ms/step\n"
          ]
        }
      ]
    },
    {
      "cell_type": "code",
      "source": [
        "# Ensure predictions are 1-dimensional\n",
        "predictions = predictions.flatten()\n",
        "\n",
        "# Calculate RMSE\n",
        "rmse = np.sqrt(np.mean(((predictions - y_test) ** 2)))\n",
        "\n",
        "rmse"
      ],
      "metadata": {
        "colab": {
          "base_uri": "https://localhost:8080/"
        },
        "id": "Yu7m_ZA-Nsyw",
        "outputId": "5dd634d4-3db4-4b87-d8f3-8aad64b8e9b6"
      },
      "execution_count": 202,
      "outputs": [
        {
          "output_type": "execute_result",
          "data": {
            "text/plain": [
              "8.14616133769429"
            ]
          },
          "metadata": {},
          "execution_count": 202
        }
      ]
    },
    {
      "cell_type": "code",
      "source": [
        "df.columns"
      ],
      "metadata": {
        "colab": {
          "base_uri": "https://localhost:8080/"
        },
        "id": "UuFTTv4USRnv",
        "outputId": "2bf16eec-6805-433b-e50b-3a23a592b68d"
      },
      "execution_count": 203,
      "outputs": [
        {
          "output_type": "execute_result",
          "data": {
            "text/plain": [
              "Index(['Adj Close_AMZN', 'Close_AMZN', 'High_AMZN', 'Low_AMZN', 'Open_AMZN',\n",
              "       'Volume_AMZN'],\n",
              "      dtype='object')"
            ]
          },
          "metadata": {},
          "execution_count": 203
        }
      ]
    },
    {
      "cell_type": "code",
      "source": [
        "# Dynamically filter the column containing 'Close'\n",
        "close_column = [col for col in df.columns if 'Close' in col]\n",
        "if not close_column:\n",
        "    raise KeyError(\"No column matching 'Close' found in the data.\")\n",
        "\n",
        "# Select the first match for 'Close'\n",
        "data = df[[close_column[0]]]\n",
        "data.columns = ['Close']  # Rename for consistency\n",
        "\n",
        "# Split the data\n",
        "train = data[:training_data_len]\n",
        "valid = data[training_data_len:].copy()  # Avoid SettingWithCopyWarning\n",
        "\n",
        "# Add predictions\n",
        "valid.loc[:, 'Predictions'] = predictions\n",
        "\n",
        "# Plot the data\n",
        "plt.figure(figsize=(16, 8))\n",
        "plt.title('Model')\n",
        "plt.xlabel('Date', fontsize=18)\n",
        "plt.ylabel('Close Price USD ($)', fontsize=18)\n",
        "\n",
        "# Plot train and validation data\n",
        "plt.plot(train['Close'])\n",
        "plt.plot(valid[['Close', 'Predictions']])\n",
        "\n",
        "plt.legend(['Train', 'Val', 'Predictions'], loc='lower right')\n",
        "plt.show()"
      ],
      "metadata": {
        "colab": {
          "base_uri": "https://localhost:8080/",
          "height": 443
        },
        "id": "tKVcpgAGQmOY",
        "outputId": "28972429-d63d-4cf7-dd6a-d9f1cc342c99"
      },
      "execution_count": 212,
      "outputs": [
        {
          "output_type": "display_data",
          "data": {
            "text/plain": [
              "<Figure size 1600x800 with 1 Axes>"
            ],
            "image/png": "[encoded data removed]"
          },
          "metadata": {}
        }
      ]
    },
    {
      "cell_type": "code",
      "source": [
        "# Show the actual and predicted price\n",
        "valid"
      ],
      "metadata": {
        "colab": {
          "base_uri": "https://localhost:8080/",
          "height": 455
        },
        "id": "7nxBBlaOTTs5",
        "outputId": "7de75d52-6882-4343-c36e-5c1499be9a3e"
      },
      "execution_count": 213,
      "outputs": [
        {
          "output_type": "execute_result",
          "data": {
            "text/plain": [
              "                                Close  Predictions\n",
              "Date                                              \n",
              "2023-04-25 00:00:00+00:00  102.570000   110.477678\n",
              "2023-04-26 00:00:00+00:00  104.980003   110.632857\n",
              "2023-04-27 00:00:00+00:00  109.820000   110.814923\n",
              "2023-04-28 00:00:00+00:00  105.449997   111.716652\n",
              "2023-05-01 00:00:00+00:00  102.050003   112.134439\n",
              "...                               ...          ...\n",
              "2024-11-12 00:00:00+00:00  208.910004   214.284443\n",
              "2024-11-13 00:00:00+00:00  214.100006   215.648943\n",
              "2024-11-14 00:00:00+00:00  211.479996   217.507260\n",
              "2024-11-15 00:00:00+00:00  202.610001   218.609342\n",
              "2024-11-18 00:00:00+00:00  201.699997   217.460257\n",
              "\n",
              "[396 rows x 2 columns]"
            ],
            "text/html": [
              "\n",
              "  <div id=\"df-53ca021c-6119-47df-af9e-ae332e086d86\" class=\"colab-df-container\">\n",
              "    <div>\n",
              "<style scoped>\n",
              "    .dataframe tbody tr th:only-of-type {\n",
              "        vertical-align: middle;\n",
              "    }\n",
              "\n",
              "    .dataframe tbody tr th {\n",
              "        vertical-align: top;\n",
              "    }\n",
              "\n",
              "    .dataframe thead th {\n",
              "        text-align: right;\n",
              "    }\n",
              "</style>\n",
              "<table border=\"1\" class=\"dataframe\">\n",
              "  <thead>\n",
              "    <tr style=\"text-align: right;\">\n",
              "      <th></th>\n",
              "      <th>Close</th>\n",
              "      <th>Predictions</th>\n",
              "    </tr>\n",
              "    <tr>\n",
              "      <th>Date</th>\n",
              "      <th></th>\n",
              "      <th></th>\n",
              "    </tr>\n",
              "  </thead>\n",
              "  <tbody>\n",
              "    <tr>\n",
              "      <th>2023-04-25 00:00:00+00:00</th>\n",
              "      <td>102.570000</td>\n",
              "      <td>110.477678</td>\n",
              "    </tr>\n",
              "    <tr>\n",
              "      <th>2023-04-26 00:00:00+00:00</th>\n",
              "      <td>104.980003</td>\n",
              "      <td>110.632857</td>\n",
              "    </tr>\n",
              "    <tr>\n",
              "      <th>2023-04-27 00:00:00+00:00</th>\n",
              "      <td>109.820000</td>\n",
              "      <td>110.814923</td>\n",
              "    </tr>\n",
              "    <tr>\n",
              "      <th>2023-04-28 00:00:00+00:00</th>\n",
              "      <td>105.449997</td>\n",
              "      <td>111.716652</td>\n",
              "    </tr>\n",
              "    <tr>\n",
              "      <th>2023-05-01 00:00:00+00:00</th>\n",
              "      <td>102.050003</td>\n",
              "      <td>112.134439</td>\n",
              "    </tr>\n",
              "    <tr>\n",
              "      <th>...</th>\n",
              "      <td>...</td>\n",
              "      <td>...</td>\n",
              "    </tr>\n",
              "    <tr>\n",
              "      <th>2024-11-12 00:00:00+00:00</th>\n",
              "      <td>208.910004</td>\n",
              "      <td>214.284443</td>\n",
              "    </tr>\n",
              "    <tr>\n",
              "      <th>2024-11-13 00:00:00+00:00</th>\n",
              "      <td>214.100006</td>\n",
              "      <td>215.648943</td>\n",
              "    </tr>\n",
              "    <tr>\n",
              "      <th>2024-11-14 00:00:00+00:00</th>\n",
              "      <td>211.479996</td>\n",
              "      <td>217.507260</td>\n",
              "    </tr>\n",
              "    <tr>\n",
              "      <th>2024-11-15 00:00:00+00:00</th>\n",
              "      <td>202.610001</td>\n",
              "      <td>218.609342</td>\n",
              "    </tr>\n",
              "    <tr>\n",
              "      <th>2024-11-18 00:00:00+00:00</th>\n",
              "      <td>201.699997</td>\n",
              "      <td>217.460257</td>\n",
              "    </tr>\n",
              "  </tbody>\n",
              "</table>\n",
              "<p>396 rows × 2 columns</p>\n",
              "</div>\n",
              "    <div class=\"colab-df-buttons\">\n",
              "\n",
              "  <div class=\"colab-df-container\">\n",
              "    <button class=\"colab-df-convert\" onclick=\"convertToInteractive('df-53ca021c-6119-47df-af9e-ae332e086d86')\"\n",
              "            title=\"Convert this dataframe to an interactive table.\"\n",
              "            style=\"display:none;\">\n",
              "\n",
              "  <svg xmlns=\"http://www.w3.org/2000/svg\" height=\"24px\" viewBox=\"0 -960 960 960\">\n",
              "    <path d=\"M120-120v-720h720v720H120Zm60-500h600v-160H180v160Zm220 220h160v-160H400v160Zm0 220h160v-160H400v160ZM180-400h160v-160H180v160Zm440 0h160v-160H620v160ZM180-180h160v-160H180v160Zm440 0h160v-160H620v160Z\"/>\n",
              "  </svg>\n",
              "    </button>\n",
              "\n",
              "  <style>\n",
              "    .colab-df-container {\n",
              "      display:flex;\n",
              "      gap: 12px;\n",
              "    }\n",
              "\n",
              "    .colab-df-convert {\n",
              "      background-color: #E8F0FE;\n",
              "      border: none;\n",
              "      border-radius: 50%;\n",
              "      cursor: pointer;\n",
              "      display: none;\n",
              "      fill: #1967D2;\n",
              "      height: 32px;\n",
              "      padding: 0 0 0 0;\n",
              "      width: 32px;\n",
              "    }\n",
              "\n",
              "    .colab-df-convert:hover {\n",
              "      background-color: #E2EBFA;\n",
              "      box-shadow: 0px 1px 2px rgba(60, 64, 67, 0.3), 0px 1px 3px 1px rgba(60, 64, 67, 0.15);\n",
              "      fill: #174EA6;\n",
              "    }\n",
              "\n",
              "    .colab-df-buttons div {\n",
              "      margin-bottom: 4px;\n",
              "    }\n",
              "\n",
              "    [theme=dark] .colab-df-convert {\n",
              "      background-color: #3B4455;\n",
              "      fill: #D2E3FC;\n",
              "    }\n",
              "\n",
              "    [theme=dark] .colab-df-convert:hover {\n",
              "      background-color: #434B5C;\n",
              "      box-shadow: 0px 1px 3px 1px rgba(0, 0, 0, 0.15);\n",
              "      filter: drop-shadow(0px 1px 2px rgba(0, 0, 0, 0.3));\n",
              "      fill: #FFFFFF;\n",
              "    }\n",
              "  </style>\n",
              "\n",
              "    <script>\n",
              "      const buttonEl =\n",
              "        document.querySelector('#df-53ca021c-6119-47df-af9e-ae332e086d86 button.colab-df-convert');\n",
              "      buttonEl.style.display =\n",
              "        google.colab.kernel.accessAllowed ? 'block' : 'none';\n",
              "\n",
              "      async function convertToInteractive(key) {\n",
              "        const element = document.querySelector('#df-53ca021c-6119-47df-af9e-ae332e086d86');\n",
              "        const dataTable =\n",
              "          await google.colab.kernel.invokeFunction('convertToInteractive',\n",
              "                                                    [key], {});\n",
              "        if (!dataTable) return;\n",
              "\n",
              "        const docLinkHtml = 'Like what you see? Visit the ' +\n",
              "          '<a target=\"_blank\" href=https://colab.research.google.com/notebooks/data_table.ipynb>data table notebook</a>'\n",
              "          + ' to learn more about interactive tables.';\n",
              "        element.innerHTML = '';\n",
              "        dataTable['output_type'] = 'display_data';\n",
              "        await google.colab.output.renderOutput(dataTable, element);\n",
              "        const docLink = document.createElement('div');\n",
              "        docLink.innerHTML = docLinkHtml;\n",
              "        element.appendChild(docLink);\n",
              "      }\n",
              "    </script>\n",
              "  </div>\n",
              "\n",
              "\n",
              "<div id=\"df-490143a6-d181-4cda-8949-048294e39ce6\">\n",
              "  <button class=\"colab-df-quickchart\" onclick=\"quickchart('df-490143a6-d181-4cda-8949-048294e39ce6')\"\n",
              "            title=\"Suggest charts\"\n",
              "            style=\"display:none;\">\n",
              "\n",
              "<svg xmlns=\"http://www.w3.org/2000/svg\" height=\"24px\"viewBox=\"0 0 24 24\"\n",
              "     width=\"24px\">\n",
              "    <g>\n",
              "        <path d=\"M19 3H5c-1.1 0-2 .9-2 2v14c0 1.1.9 2 2 2h14c1.1 0 2-.9 2-2V5c0-1.1-.9-2-2-2zM9 17H7v-7h2v7zm4 0h-2V7h2v10zm4 0h-2v-4h2v4z\"/>\n",
              "    </g>\n",
              "</svg>\n",
              "  </button>\n",
              "\n",
              "<style>\n",
              "  .colab-df-quickchart {\n",
              "      --bg-color: #E8F0FE;\n",
              "      --fill-color: #1967D2;\n",
              "      --hover-bg-color: #E2EBFA;\n",
              "      --hover-fill-color: #174EA6;\n",
              "      --disabled-fill-color: #AAA;\n",
              "      --disabled-bg-color: #DDD;\n",
              "  }\n",
              "\n",
              "  [theme=dark] .colab-df-quickchart {\n",
              "      --bg-color: #3B4455;\n",
              "      --fill-color: #D2E3FC;\n",
              "      --hover-bg-color: #434B5C;\n",
              "      --hover-fill-color: #FFFFFF;\n",
              "      --disabled-bg-color: #3B4455;\n",
              "      --disabled-fill-color: #666;\n",
              "  }\n",
              "\n",
              "  .colab-df-quickchart {\n",
              "    background-color: var(--bg-color);\n",
              "    border: none;\n",
              "    border-radius: 50%;\n",
              "    cursor: pointer;\n",
              "    display: none;\n",
              "    fill: var(--fill-color);\n",
              "    height: 32px;\n",
              "    padding: 0;\n",
              "    width: 32px;\n",
              "  }\n",
              "\n",
              "  .colab-df-quickchart:hover {\n",
              "    background-color: var(--hover-bg-color);\n",
              "    box-shadow: 0 1px 2px rgba(60, 64, 67, 0.3), 0 1px 3px 1px rgba(60, 64, 67, 0.15);\n",
              "    fill: var(--button-hover-fill-color);\n",
              "  }\n",
              "\n",
              "  .colab-df-quickchart-complete:disabled,\n",
              "  .colab-df-quickchart-complete:disabled:hover {\n",
              "    background-color: var(--disabled-bg-color);\n",
              "    fill: var(--disabled-fill-color);\n",
              "    box-shadow: none;\n",
              "  }\n",
              "\n",
              "  .colab-df-spinner {\n",
              "    border: 2px solid var(--fill-color);\n",
              "    border-color: transparent;\n",
              "    border-bottom-color: var(--fill-color);\n",
              "    animation:\n",
              "      spin 1s steps(1) infinite;\n",
              "  }\n",
              "\n",
              "  @keyframes spin {\n",
              "    0% {\n",
              "      border-color: transparent;\n",
              "      border-bottom-color: var(--fill-color);\n",
              "      border-left-color: var(--fill-color);\n",
              "    }\n",
              "    20% {\n",
              "      border-color: transparent;\n",
              "      border-left-color: var(--fill-color);\n",
              "      border-top-color: var(--fill-color);\n",
              "    }\n",
              "    30% {\n",
              "      border-color: transparent;\n",
              "      border-left-color: var(--fill-color);\n",
              "      border-top-color: var(--fill-color);\n",
              "      border-right-color: var(--fill-color);\n",
              "    }\n",
              "    40% {\n",
              "      border-color: transparent;\n",
              "      border-right-color: var(--fill-color);\n",
              "      border-top-color: var(--fill-color);\n",
              "    }\n",
              "    60% {\n",
              "      border-color: transparent;\n",
              "      border-right-color: var(--fill-color);\n",
              "    }\n",
              "    80% {\n",
              "      border-color: transparent;\n",
              "      border-right-color: var(--fill-color);\n",
              "      border-bottom-color: var(--fill-color);\n",
              "    }\n",
              "    90% {\n",
              "      border-color: transparent;\n",
              "      border-bottom-color: var(--fill-color);\n",
              "    }\n",
              "  }\n",
              "</style>\n",
              "\n",
              "  <script>\n",
              "    async function quickchart(key) {\n",
              "      const quickchartButtonEl =\n",
              "        document.querySelector('#' + key + ' button');\n",
              "      quickchartButtonEl.disabled = true;  // To prevent multiple clicks.\n",
              "      quickchartButtonEl.classList.add('colab-df-spinner');\n",
              "      try {\n",
              "        const charts = await google.colab.kernel.invokeFunction(\n",
              "            'suggestCharts', [key], {});\n",
              "      } catch (error) {\n",
              "        console.error('Error during call to suggestCharts:', error);\n",
              "      }\n",
              "      quickchartButtonEl.classList.remove('colab-df-spinner');\n",
              "      quickchartButtonEl.classList.add('colab-df-quickchart-complete');\n",
              "    }\n",
              "    (() => {\n",
              "      let quickchartButtonEl =\n",
              "        document.querySelector('#df-490143a6-d181-4cda-8949-048294e39ce6 button');\n",
              "      quickchartButtonEl.style.display =\n",
              "        google.colab.kernel.accessAllowed ? 'block' : 'none';\n",
              "    })();\n",
              "  </script>\n",
              "</div>\n",
              "\n",
              "  <div id=\"id_535583f5-c978-4627-bb90-f75593b9401a\">\n",
              "    <style>\n",
              "      .colab-df-generate {\n",
              "        background-color: #E8F0FE;\n",
              "        border: none;\n",
              "        border-radius: 50%;\n",
              "        cursor: pointer;\n",
              "        display: none;\n",
              "        fill: #1967D2;\n",
              "        height: 32px;\n",
              "        padding: 0 0 0 0;\n",
              "        width: 32px;\n",
              "      }\n",
              "\n",
              "      .colab-df-generate:hover {\n",
              "        background-color: #E2EBFA;\n",
              "        box-shadow: 0px 1px 2px rgba(60, 64, 67, 0.3), 0px 1px 3px 1px rgba(60, 64, 67, 0.15);\n",
              "        fill: #174EA6;\n",
              "      }\n",
              "\n",
              "      [theme=dark] .colab-df-generate {\n",
              "        background-color: #3B4455;\n",
              "        fill: #D2E3FC;\n",
              "      }\n",
              "\n",
              "      [theme=dark] .colab-df-generate:hover {\n",
              "        background-color: #434B5C;\n",
              "        box-shadow: 0px 1px 3px 1px rgba(0, 0, 0, 0.15);\n",
              "        filter: drop-shadow(0px 1px 2px rgba(0, 0, 0, 0.3));\n",
              "        fill: #FFFFFF;\n",
              "      }\n",
              "    </style>\n",
              "    <button class=\"colab-df-generate\" onclick=\"generateWithVariable('valid')\"\n",
              "            title=\"Generate code using this dataframe.\"\n",
              "            style=\"display:none;\">\n",
              "\n",
              "  <svg xmlns=\"http://www.w3.org/2000/svg\" height=\"24px\"viewBox=\"0 0 24 24\"\n",
              "       width=\"24px\">\n",
              "    <path d=\"M7,19H8.4L18.45,9,17,7.55,7,17.6ZM5,21V16.75L18.45,3.32a2,2,0,0,1,2.83,0l1.4,1.43a1.91,1.91,0,0,1,.58,1.4,1.91,1.91,0,0,1-.58,1.4L9.25,21ZM18.45,9,17,7.55Zm-12,3A5.31,5.31,0,0,0,4.9,8.1,5.31,5.31,0,0,0,1,6.5,5.31,5.31,0,0,0,4.9,4.9,5.31,5.31,0,0,0,6.5,1,5.31,5.31,0,0,0,8.1,4.9,5.31,5.31,0,0,0,12,6.5,5.46,5.46,0,0,0,6.5,12Z\"/>\n",
              "  </svg>\n",
              "    </button>\n",
              "    <script>\n",
              "      (() => {\n",
              "      const buttonEl =\n",
              "        document.querySelector('#id_535583f5-c978-4627-bb90-f75593b9401a button.colab-df-generate');\n",
              "      buttonEl.style.display =\n",
              "        google.colab.kernel.accessAllowed ? 'block' : 'none';\n",
              "\n",
              "      buttonEl.onclick = () => {\n",
              "        google.colab.notebook.generateWithVariable('valid');\n",
              "      }\n",
              "      })();\n",
              "    </script>\n",
              "  </div>\n",
              "\n",
              "    </div>\n",
              "  </div>\n"
            ],
            "application/vnd.google.colaboratory.intrinsic+json": {
              "type": "dataframe",
              "variable_name": "valid",
              "summary": "{\n  \"name\": \"valid\",\n  \"rows\": 396,\n  \"fields\": [\n    {\n      \"column\": \"Date\",\n      \"properties\": {\n        \"dtype\": \"date\",\n        \"min\": \"2023-04-25 00:00:00+00:00\",\n        \"max\": \"2024-11-18 00:00:00+00:00\",\n        \"num_unique_values\": 396,\n        \"samples\": [\n          \"2023-08-16 00:00:00+00:00\",\n          \"2024-05-31 00:00:00+00:00\",\n          \"2024-04-23 00:00:00+00:00\"\n        ],\n        \"semantic_type\": \"\",\n        \"description\": \"\"\n      }\n    },\n    {\n      \"column\": \"Close\",\n      \"properties\": {\n        \"dtype\": \"number\",\n        \"std\": 27.037589636991253,\n        \"min\": 102.05000305175781,\n        \"max\": 214.10000610351562,\n        \"num_unique_values\": 379,\n        \"samples\": [\n          199.33999633789062,\n          193.25,\n          177.88999938964844\n        ],\n        \"semantic_type\": \"\",\n        \"description\": \"\"\n      }\n    },\n    {\n      \"column\": \"Predictions\",\n      \"properties\": {\n        \"dtype\": \"number\",\n        \"std\": 27.46110925592713,\n        \"min\": 110.47767794600281,\n        \"max\": 218.60934199917529,\n        \"num_unique_values\": 396,\n        \"samples\": [\n          147.03319564052617,\n          189.04790167100327,\n          187.26930084721585\n        ],\n        \"semantic_type\": \"\",\n        \"description\": \"\"\n      }\n    }\n  ]\n}"
            }
          },
          "metadata": {},
          "execution_count": 213
        }
      ]
    },
    {
      "cell_type": "code",
      "source": [
        "# Predicting price of 2024-01-16\n",
        "\n",
        "# Get the Quote\n",
        "amazon_quote = yf.download('AMZN', start='2012-01-01', end='2024-01-16')\n",
        "\n",
        "# Dynamically filter the column containing 'Close'\n",
        "close_column = [col for col in amazon_quote.columns if 'Close' in col]\n",
        "if not close_column:\n",
        "    raise KeyError(\"No column matching 'Close' found in the data.\")\n",
        "\n",
        "# Select the first match for 'Close'\n",
        "new_df = amazon_quote[[close_column[0]]]\n",
        "new_df.columns = ['Close']  # Rename for consistency\n",
        "\n",
        "# Get the last 60 days close price values and convert the DataFrame to an array\n",
        "last_60_days = new_df[-60:].values\n",
        "\n",
        "# Check if we have enough data for the last 60 days\n",
        "if last_60_days.shape[0] < 60:\n",
        "    raise ValueError(f\"Not enough data for the last 60 days. Found only {last_60_days.shape[0]} rows.\")\n",
        "\n",
        "# Create a dummy array to match the scaler's expected shape\n",
        "dummy_array = np.zeros((last_60_days.shape[0], scaler.n_features_in_))\n",
        "dummy_array[:, 0] = last_60_days[:, 0]  # Insert 'Close' data into the first column\n",
        "\n",
        "# Scale the data\n",
        "last_60_days_scaled = scaler.transform(dummy_array)\n",
        "last_60_days_scaled = last_60_days_scaled[:, 0:1]  # Extract only the scaled 'Close' column\n",
        "\n",
        "# Create an empty list\n",
        "X_test = []\n",
        "\n",
        "# Append the past 60 days\n",
        "X_test.append(last_60_days_scaled)\n",
        "\n",
        "# Convert the X_test data set to a NumPy array\n",
        "X_test = np.array(X_test)\n",
        "\n",
        "# Reshape the data\n",
        "X_test = np.reshape(X_test, (X_test.shape[0], X_test.shape[1], 1))\n",
        "\n",
        "# Get the predicted scaled price\n",
        "pred_price = model.predict(X_test)\n",
        "\n",
        "# Undo the scaling\n",
        "dummy_array_pred = np.zeros((pred_price.shape[0], scaler.n_features_in_))\n",
        "dummy_array_pred[:, 0] = pred_price[:, 0]  # Insert predictions into the first column\n",
        "pred_price = scaler.inverse_transform(dummy_array_pred)\n",
        "pred_price = pred_price[:, 0]  # Extract only the 'Close' predictions\n",
        "\n",
        "print(pred_price)"
      ],
      "metadata": {
        "colab": {
          "base_uri": "https://localhost:8080/"
        },
        "id": "X3aYZ-rjTkat",
        "outputId": "99be6f00-6238-41e3-8365-5bae936a877a"
      },
      "execution_count": 283,
      "outputs": [
        {
          "output_type": "stream",
          "name": "stderr",
          "text": [
            "\r[*********************100%***********************]  1 of 1 completed"
          ]
        },
        {
          "output_type": "stream",
          "name": "stdout",
          "text": [
            "\u001b[1m1/1\u001b[0m \u001b[32m━━━━━━━━━━━━━━━━━━━━\u001b[0m\u001b[37m\u001b[0m \u001b[1m0s\u001b[0m 23ms/step\n",
            "[159.87837497]\n"
          ]
        },
        {
          "output_type": "stream",
          "name": "stderr",
          "text": [
            "\n"
          ]
        }
      ]
    },
    {
      "cell_type": "code",
      "source": [
        "# Get the stock quote for 2024-01-16\n",
        "\n",
        "# Define ticker and date range\n",
        "ticker = 'AMZN'\n",
        "start_date = '2024-01-16'\n",
        "end_date = '2024-01-17'\n",
        "\n",
        "# Fetch data\n",
        "amazon_quote = yf.download(ticker, start=start_date, end=end_date)\n",
        "\n",
        "# Check if data is available\n",
        "if amazon_quote.empty:\n",
        "    print(f\"No data found for {ticker} between {start_date} and {end_date}.\")\n",
        "else:\n",
        "    # Extract 'Close' price for the target date if available\n",
        "    if '2024-01-16' in amazon_quote.index:\n",
        "        print(f\"Close price for {ticker} on 2024-01-16: {amazon_quote.loc['2024-01-16', 'Close']}\")\n",
        "    else:\n",
        "        print(f\"No data found for {ticker} on 2024-01-16. Available data:\")\n",
        "        print(amazon_quote)\n"
      ],
      "metadata": {
        "colab": {
          "base_uri": "https://localhost:8080/"
        },
        "id": "XtSKV3eMagBR",
        "outputId": "28d39308-21a0-4a72-fd41-9e9933fc6b05"
      },
      "execution_count": 286,
      "outputs": [
        {
          "output_type": "stream",
          "name": "stderr",
          "text": [
            "\r[*********************100%***********************]  1 of 1 completed"
          ]
        },
        {
          "output_type": "stream",
          "name": "stdout",
          "text": [
            "Close price for AMZN on 2024-01-16: Ticker\n",
            "AMZN    153.160004\n",
            "Name: 2024-01-16 00:00:00+00:00, dtype: float64\n"
          ]
        },
        {
          "output_type": "stream",
          "name": "stderr",
          "text": [
            "\n"
          ]
        }
      ]
    }
  ]
}